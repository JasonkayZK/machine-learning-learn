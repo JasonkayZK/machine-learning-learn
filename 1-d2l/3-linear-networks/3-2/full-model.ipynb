{
 "cells": [
  {
   "metadata": {
    "collapsed": true
   },
   "cell_type": "markdown",
   "source": "",
   "id": "31d2f87bd04af903"
  },
  {
   "metadata": {
    "ExecuteTime": {
     "end_time": "2025-06-19T11:22:17.092415Z",
     "start_time": "2025-06-19T11:22:17.089994Z"
    }
   },
   "cell_type": "code",
   "source": [
    "%matplotlib inline\n",
    "import random\n",
    "import torch\n",
    "from d2l import torch as d2l"
   ],
   "id": "ee0f22a450824c57",
   "outputs": [],
   "execution_count": 21
  },
  {
   "metadata": {},
   "cell_type": "markdown",
   "source": [
    "## 数据集生成&读取部分\n",
    "\n",
    "(我们使用线性模型参数$\\mathbf{w} = [w1, w2]^\\top$、$b = b$\n",
    "和噪声项$\\epsilon$生成数据集及其标签：\n",
    "\n",
    "$$\\mathbf{y}= \\mathbf{X} \\mathbf{w} + b + \\mathbf\\epsilon.$$\n",
    ")\n",
    "\n",
    "$\\epsilon$可以视为模型预测和标签时的潜在观测误差。\n",
    "在这里我们认为标准假设成立，即$\\epsilon$服从均值为0的正态分布。\n",
    "为了简化问题，我们将标准差设为0.01。\n",
    "\n",
    "包括两个部分：\n",
    "\n",
    "- 数据集生成\n",
    "- 数据集读取（使用 yield）"
   ],
   "id": "f4133b6305b206b"
  },
  {
   "metadata": {
    "ExecuteTime": {
     "end_time": "2025-06-19T11:22:17.097260Z",
     "start_time": "2025-06-19T11:22:17.093673Z"
    }
   },
   "cell_type": "code",
   "source": [
    "# 数据集生成\n",
    "def synthetic_data(w, b, num_examples):  #@save\n",
    "    \"\"\"生成y=Xw+b+噪声\"\"\"\n",
    "    X = torch.normal(0, 1, (num_examples, len(w)))\n",
    "    y = torch.matmul(X, w) + b\n",
    "    y += torch.normal(0, 0.01, y.shape)\n",
    "    return X, y.reshape((-1, 1))\n",
    "\n",
    "# 小批量读取数据集\n",
    "def data_iter(batch_size, features, labels):\n",
    "    num_examples = len(features)\n",
    "    indices = list(range(num_examples))\n",
    "    # 这些样本是随机读取的，没有特定的顺序\n",
    "    random.shuffle(indices)\n",
    "    for i in range(0, num_examples, batch_size):\n",
    "        batch_indices = torch.tensor(\n",
    "            indices[i: min(i + batch_size, num_examples)])\n",
    "        yield features[batch_indices], labels[batch_indices]"
   ],
   "id": "a0576bcdf1f66928",
   "outputs": [],
   "execution_count": 22
  },
  {
   "metadata": {},
   "cell_type": "markdown",
   "source": [
    "## 模型定义部分\n",
    "\n",
    "包括以下几个步骤：\n",
    "\n",
    "- 定义模型\n",
    "- 定义损失函数\n",
    "- 定义优化算法（小批量随机梯度下降）\n"
   ],
   "id": "1841de0d9ef71986"
  },
  {
   "metadata": {
    "ExecuteTime": {
     "end_time": "2025-06-19T11:22:17.103966Z",
     "start_time": "2025-06-19T11:22:17.098047Z"
    }
   },
   "cell_type": "code",
   "source": [
    "# 定义模型\n",
    "def linreg(X, w, b):  #@save\n",
    "    \"\"\"线性回归模型\"\"\"\n",
    "    return torch.matmul(X, w) + b\n",
    "\n",
    "# 定义损失函数\n",
    "#（整个batchsize样本集上的损失函数，如果要计算平均单个样本的损失函数需要除以batchsize）\n",
    "def squared_loss(y_hat, y):  #@save\n",
    "    \"\"\"均方损失\"\"\"\n",
    "    return (y_hat - y.reshape(y_hat.shape)) ** 2 / 2\n",
    "\n",
    "# 定义优化算法（小批量随机梯度下降）\n",
    "def sgd(params, lr, batch_size):  #@save\n",
    "    \"\"\"小批量随机梯度下降\"\"\"\n",
    "    with torch.no_grad():\n",
    "        for param in params:\n",
    "            param -= lr * param.grad / batch_size\n",
    "            # param -= lr * param.grad\n",
    "            param.grad.zero_()"
   ],
   "id": "5183024147a4b5",
   "outputs": [],
   "execution_count": 23
  },
  {
   "metadata": {},
   "cell_type": "markdown",
   "source": [
    "## 模型使用部分\n",
    "\n",
    "主要有以下几个步骤：\n",
    "\n",
    "- 生成随机模拟数据\n",
    "- 初始化模型参数\n",
    "- 训练模型\n",
    "- 输出结果\n"
   ],
   "id": "2d838606f67f236d"
  },
  {
   "metadata": {
    "ExecuteTime": {
     "end_time": "2025-06-19T11:22:17.177831Z",
     "start_time": "2025-06-19T11:22:17.104587Z"
    }
   },
   "cell_type": "code",
   "source": [
    "# 1.生成随机模拟数据\n",
    "true_w1, true_w2 = 4, -1.0 # 线性模型 feature1、feature2、……参数\n",
    "true_b = 10 #\n",
    "total_num = 1000\n",
    "print(f\"各参数实际值：w1: {true_w1}, w2: {true_w2}, b: {true_b}\\n\")\n",
    "\n",
    "true_w = torch.tensor([true_w1, true_w2])\n",
    "true_b = true_b\n",
    "features, labels = synthetic_data(true_w, true_b, total_num)\n",
    "\n",
    "# 2.初始化模型参数\n",
    "# w = torch.normal(0, 0.01, size=(2,1), requires_grad=True)\n",
    "# b = torch.zeros(1, requires_grad=True)\n",
    "\n",
    "## exercise-1:\n",
    "w = torch.tensor([[0], [0]], dtype=torch.float, requires_grad=True)\n",
    "b = torch.tensor([0], dtype=torch.float, requires_grad=True)\n",
    "\n",
    "print(w)\n",
    "print(b)\n",
    "\n",
    "# 3.训练模型\n",
    "# lr = 0.0001 # 学习率\n",
    "lr = 1 # 学习率\n",
    "batch_size = 10 # 小样本数\n",
    "num_epochs = 5 # 训练迭代次数\n",
    "net = linreg # 网络模型\n",
    "loss = squared_loss # 损失函数\n",
    "\n",
    "for epoch in range(num_epochs):\n",
    "    for X, y in data_iter(batch_size, features, labels):\n",
    "        l = loss(net(X, w, b), y)  # X和y的小批量损失\n",
    "        # 因为l形状是(batch_size,1)，而不是一个标量。l中的所有元素被加到一起，\n",
    "        # 并以此计算关于[w,b]的梯度\n",
    "        l.sum().backward()\n",
    "        sgd([w, b], lr, batch_size)  # 使用参数的梯度更新参数\n",
    "    with torch.no_grad():\n",
    "        train_l = loss(net(features, w, b), labels)\n",
    "        print(f'epoch {epoch + 1}, loss {float(train_l.mean()):f}')\n",
    "\n",
    "# 输出结果\n",
    "print(f'w的估计值: {w.reshape(true_w.shape)}')\n",
    "print(f'b的估计值: {b}')\n",
    "print(f'w的估计误差: {true_w - w.reshape(true_w.shape)}')\n",
    "print(f'b的估计误差: {true_b - b}')"
   ],
   "id": "d719621da4a575b5",
   "outputs": [
    {
     "name": "stdout",
     "output_type": "stream",
     "text": [
      "各参数实际值：w1: 4, w2: -1.0, b: 10\n",
      "\n",
      "tensor([[0.],\n",
      "        [0.]], requires_grad=True)\n",
      "tensor([0.], requires_grad=True)\n",
      "epoch 1, loss 0.000075\n",
      "epoch 2, loss 0.000077\n",
      "epoch 3, loss 0.000059\n",
      "epoch 4, loss 0.000073\n",
      "epoch 5, loss 0.000082\n",
      "w的估计值: tensor([ 3.9925, -1.0013], grad_fn=<ReshapeAliasBackward0>)\n",
      "b的估计值: tensor([9.9979], requires_grad=True)\n",
      "w的估计误差: tensor([0.0075, 0.0013], grad_fn=<SubBackward0>)\n",
      "b的估计误差: tensor([0.0021], grad_fn=<RsubBackward1>)\n"
     ]
    }
   ],
   "execution_count": 24
  }
 ],
 "metadata": {
  "kernelspec": {
   "display_name": "Python 3",
   "language": "python",
   "name": "python3"
  },
  "language_info": {
   "codemirror_mode": {
    "name": "ipython",
    "version": 2
   },
   "file_extension": ".py",
   "mimetype": "text/x-python",
   "name": "python",
   "nbconvert_exporter": "python",
   "pygments_lexer": "ipython2",
   "version": "2.7.6"
  }
 },
 "nbformat": 4,
 "nbformat_minor": 5
}
