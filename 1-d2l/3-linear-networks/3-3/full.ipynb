{
 "cells": [
  {
   "metadata": {
    "collapsed": true
   },
   "cell_type": "markdown",
   "source": "# 简化版线性回归模型",
   "id": "d37f47ea6bd7171e"
  },
  {
   "metadata": {
    "ExecuteTime": {
     "end_time": "2025-06-20T11:13:12.767862Z",
     "start_time": "2025-06-20T11:13:12.765313Z"
    }
   },
   "cell_type": "code",
   "source": [
    "import numpy as np\n",
    "import torch\n",
    "from torch.utils import data\n",
    "from d2l import torch as d2l"
   ],
   "id": "e539bca22f9bafd1",
   "outputs": [],
   "execution_count": 58
  },
  {
   "metadata": {},
   "cell_type": "markdown",
   "source": "## 0、生成数据集",
   "id": "18367da31af4ba49"
  },
  {
   "metadata": {
    "ExecuteTime": {
     "end_time": "2025-06-20T11:13:12.779399Z",
     "start_time": "2025-06-20T11:13:12.769268Z"
    }
   },
   "cell_type": "code",
   "source": [
    "w_dim = 2  # 输入数据维数\n",
    "sample_nums = 1000  # 训练集样本数\n",
    "lr = 0.05  # 学习率\n",
    "batch_size = 10 # 小批量数据集样本数\n",
    "num_epochs = 10  # 训练轮数\n",
    "\n",
    "true_w = torch.rand(w_dim)\n",
    "true_b = 10 * torch.randn(1).item()  # 0-10 的正态分布随机数\n",
    "features, labels = d2l.synthetic_data(true_w, true_b, sample_nums)"
   ],
   "id": "78210341b0081752",
   "outputs": [],
   "execution_count": 59
  },
  {
   "metadata": {},
   "cell_type": "markdown",
   "source": "## 1、读取数据集",
   "id": "d9b74303401b68c6"
  },
  {
   "metadata": {
    "ExecuteTime": {
     "end_time": "2025-06-20T11:13:12.783625Z",
     "start_time": "2025-06-20T11:13:12.780334Z"
    }
   },
   "cell_type": "code",
   "source": [
    "def load_array(data_arrays, batch_size, is_train=True):  #@save\n",
    "    \"\"\"构造一个PyTorch数据迭代器\"\"\"\n",
    "    dataset = data.TensorDataset(*data_arrays)\n",
    "    return data.DataLoader(dataset, batch_size, shuffle=is_train)"
   ],
   "id": "c470fbe97316f150",
   "outputs": [],
   "execution_count": 60
  },
  {
   "metadata": {},
   "cell_type": "markdown",
   "source": "## 2、定义模型",
   "id": "8a99b2fdfba451b0"
  },
  {
   "metadata": {
    "ExecuteTime": {
     "end_time": "2025-06-20T11:13:12.788778Z",
     "start_time": "2025-06-20T11:13:12.784133Z"
    }
   },
   "cell_type": "code",
   "source": [
    "# nn是神经网络的缩写\n",
    "from torch import nn\n",
    "\n",
    "net = nn.Sequential(nn.Linear(w_dim, 1))\n",
    "net"
   ],
   "id": "da78742c5173b40e",
   "outputs": [
    {
     "data": {
      "text/plain": [
       "Sequential(\n",
       "  (0): Linear(in_features=2, out_features=1, bias=True)\n",
       ")"
      ]
     },
     "execution_count": 61,
     "metadata": {},
     "output_type": "execute_result"
    }
   ],
   "execution_count": 61
  },
  {
   "metadata": {},
   "cell_type": "markdown",
   "source": "## 3、定义损失函数",
   "id": "d5d0b2a9e8d783f0"
  },
  {
   "metadata": {
    "ExecuteTime": {
     "end_time": "2025-06-20T11:13:12.792950Z",
     "start_time": "2025-06-20T11:13:12.789284Z"
    }
   },
   "cell_type": "code",
   "source": [
    "# loss = nn.MSELoss()\n",
    "loss = nn.HuberLoss()"
   ],
   "id": "f68b5f8590210599",
   "outputs": [],
   "execution_count": 62
  },
  {
   "metadata": {},
   "cell_type": "markdown",
   "source": "## 4、定义优化算法",
   "id": "4536a787dcbe6425"
  },
  {
   "metadata": {
    "ExecuteTime": {
     "end_time": "2025-06-20T11:13:12.797461Z",
     "start_time": "2025-06-20T11:13:12.793710Z"
    }
   },
   "cell_type": "code",
   "source": "trainer = torch.optim.SGD(net.parameters(), lr=lr)",
   "id": "82c166ca79c1e34e",
   "outputs": [],
   "execution_count": 63
  },
  {
   "metadata": {},
   "cell_type": "markdown",
   "source": "## 5、初始化参数",
   "id": "ce4a077a7d7a4fce"
  },
  {
   "metadata": {
    "ExecuteTime": {
     "end_time": "2025-06-20T11:13:12.802647Z",
     "start_time": "2025-06-20T11:13:12.797965Z"
    }
   },
   "cell_type": "code",
   "source": [
    "net[0].weight.data.normal_(0, 0.01)\n",
    "net[0].bias.data.fill_(0)"
   ],
   "id": "72ac81bb1bc5d9b5",
   "outputs": [
    {
     "data": {
      "text/plain": [
       "tensor([0.])"
      ]
     },
     "execution_count": 64,
     "metadata": {},
     "output_type": "execute_result"
    }
   ],
   "execution_count": 64
  },
  {
   "metadata": {},
   "cell_type": "markdown",
   "source": "## 6、训练模型",
   "id": "eac66be8d2197d80"
  },
  {
   "metadata": {
    "ExecuteTime": {
     "end_time": "2025-06-20T11:13:12.988953Z",
     "start_time": "2025-06-20T11:13:12.803182Z"
    }
   },
   "cell_type": "code",
   "source": [
    "data_iter = load_array((features, labels), batch_size)\n",
    "\n",
    "for epoch in range(num_epochs):\n",
    "    for X, y in data_iter:\n",
    "        l = loss(net(X) ,y)\n",
    "        trainer.zero_grad()\n",
    "        l.backward()\n",
    "        trainer.step()\n",
    "    l = loss(net(features), labels)\n",
    "    print(f'epoch {epoch + 1}, loss {l:f}')\n",
    "\n",
    "b = net[0].bias.data\n",
    "w = net[0].weight.data\n",
    "\n",
    "print(f\"数据集中的：true_w: {true_w}, true_b: {true_b}\")\n",
    "print(f\"模型的训练值：w: {w}, b: {b}\")\n",
    "print('w的估计误差：', true_w - w.reshape(true_w.shape))\n",
    "print('b的估计误差：', true_b - b)"
   ],
   "id": "6dbeb996cb9a5e74",
   "outputs": [
    {
     "name": "stdout",
     "output_type": "stream",
     "text": [
      "epoch 1, loss 2.048909\n",
      "epoch 2, loss 0.000992\n",
      "epoch 3, loss 0.000046\n",
      "epoch 4, loss 0.000046\n",
      "epoch 5, loss 0.000046\n",
      "epoch 6, loss 0.000046\n",
      "epoch 7, loss 0.000046\n",
      "epoch 8, loss 0.000046\n",
      "epoch 9, loss 0.000046\n",
      "epoch 10, loss 0.000046\n",
      "数据集中的：true_w: tensor([0.6566, 0.1733]), true_b: 7.558106780052185\n",
      "模型的训练值：w: tensor([[0.6566, 0.1731]]), b: tensor([7.5584])\n",
      "w的估计误差： tensor([6.1929e-05, 2.1994e-04])\n",
      "b的估计误差： tensor([-0.0003])\n"
     ]
    }
   ],
   "execution_count": 65
  }
 ],
 "metadata": {
  "kernelspec": {
   "display_name": "Python 3",
   "language": "python",
   "name": "python3"
  },
  "language_info": {
   "codemirror_mode": {
    "name": "ipython",
    "version": 2
   },
   "file_extension": ".py",
   "mimetype": "text/x-python",
   "name": "python",
   "nbconvert_exporter": "python",
   "pygments_lexer": "ipython2",
   "version": "2.7.6"
  }
 },
 "nbformat": 4,
 "nbformat_minor": 5
}
