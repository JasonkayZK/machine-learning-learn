{
 "cells": [
  {
   "cell_type": "markdown",
   "id": "5b45872a",
   "metadata": {
    "origin_pos": 0
   },
   "source": [
    "# 数据预处理\n",
    ":label:`sec_pandas`\n",
    "\n",
    "为了能用深度学习来解决现实世界的问题，我们经常从预处理原始数据开始，\n",
    "而不是从那些准备好的张量格式数据开始。\n",
    "在Python中常用的数据分析工具中，我们通常使用`pandas`软件包。\n",
    "像庞大的Python生态系统中的许多其他扩展包一样，`pandas`可以与张量兼容。\n",
    "本节我们将简要介绍使用`pandas`预处理原始数据，并将原始数据转换为张量格式的步骤。\n",
    "后面的章节将介绍更多的数据预处理技术。\n",
    "\n",
    "## 读取数据集\n",
    "\n",
    "举一个例子，我们首先(**创建一个人工数据集，并存储在CSV（逗号分隔值）文件**)\n",
    "`../data/house_tiny.csv`中。\n",
    "以其他格式存储的数据也可以通过类似的方式进行处理。\n",
    "下面我们将数据集按行写入CSV文件中。\n"
   ]
  },
  {
   "cell_type": "code",
   "id": "5f716622",
   "metadata": {
    "execution": {
     "iopub.execute_input": "2022-12-07T16:43:11.961492Z",
     "iopub.status.busy": "2022-12-07T16:43:11.961161Z",
     "iopub.status.idle": "2022-12-07T16:43:11.971453Z",
     "shell.execute_reply": "2022-12-07T16:43:11.970593Z"
    },
    "origin_pos": 1,
    "tab": [
     "pytorch"
    ],
    "ExecuteTime": {
     "end_time": "2025-06-17T12:46:08.667551Z",
     "start_time": "2025-06-17T12:46:08.664360Z"
    }
   },
   "source": [
    "import os\n",
    "\n",
    "os.makedirs(os.path.join('..', 'data'), exist_ok=True)\n",
    "data_file = os.path.join('..', 'data', 'house_tiny.csv')\n",
    "with open(data_file, 'w') as f:\n",
    "    f.write('NumRooms,Alley,Price\\n')  # 列名\n",
    "    f.write('NA,Pave,127500\\n')  # 每行表示一个数据样本\n",
    "    f.write('2,NA,106000\\n')\n",
    "    f.write('4,NA,178100\\n')\n",
    "    f.write('NA,NA,140000\\n')"
   ],
   "outputs": [],
   "execution_count": 18
  },
  {
   "cell_type": "markdown",
   "id": "0ac5af19",
   "metadata": {
    "origin_pos": 2
   },
   "source": [
    "要[**从创建的CSV文件中加载原始数据集**]，我们导入`pandas`包并调用`read_csv`函数。该数据集有四行三列。其中每行描述了房间数量（“NumRooms”）、巷子类型（“Alley”）和房屋价格（“Price”）。\n"
   ]
  },
  {
   "cell_type": "code",
   "id": "924cf71d",
   "metadata": {
    "execution": {
     "iopub.execute_input": "2022-12-07T16:43:11.974577Z",
     "iopub.status.busy": "2022-12-07T16:43:11.974309Z",
     "iopub.status.idle": "2022-12-07T16:43:12.396965Z",
     "shell.execute_reply": "2022-12-07T16:43:12.396130Z"
    },
    "origin_pos": 3,
    "tab": [
     "pytorch"
    ],
    "ExecuteTime": {
     "end_time": "2025-06-17T12:46:08.674837Z",
     "start_time": "2025-06-17T12:46:08.668565Z"
    }
   },
   "source": [
    "# 如果没有安装pandas，只需取消对以下行的注释来安装pandas\n",
    "# !pip install pandas\n",
    "import pandas as pd\n",
    "\n",
    "data = pd.read_csv(data_file)\n",
    "print(data)"
   ],
   "outputs": [
    {
     "name": "stdout",
     "output_type": "stream",
     "text": [
      "   NumRooms Alley   Price\n",
      "0       NaN  Pave  127500\n",
      "1       2.0   NaN  106000\n",
      "2       4.0   NaN  178100\n",
      "3       NaN   NaN  140000\n"
     ]
    }
   ],
   "execution_count": 19
  },
  {
   "cell_type": "markdown",
   "id": "89042148",
   "metadata": {
    "origin_pos": 4
   },
   "source": [
    "## 处理缺失值\n",
    "\n",
    "注意，“NaN”项代表缺失值。\n",
    "[**为了处理缺失的数据，典型的方法包括*插值法*和*删除法*，**]\n",
    "其中插值法用一个替代值弥补缺失值，而删除法则直接忽略缺失值。\n",
    "在(**这里，我们将考虑插值法**)。\n",
    "\n",
    "通过位置索引`iloc`，我们将`data`分成`inputs`和`outputs`，\n",
    "其中前者为`data`的前两列，而后者为`data`的最后一列。\n",
    "对于`inputs`中缺少的数值，我们用同一列的均值替换“NaN”项。\n"
   ]
  },
  {
   "cell_type": "code",
   "id": "fde4c583",
   "metadata": {
    "execution": {
     "iopub.execute_input": "2022-12-07T16:43:12.400496Z",
     "iopub.status.busy": "2022-12-07T16:43:12.400006Z",
     "iopub.status.idle": "2022-12-07T16:43:12.409195Z",
     "shell.execute_reply": "2022-12-07T16:43:12.408381Z"
    },
    "origin_pos": 5,
    "tab": [
     "pytorch"
    ],
    "ExecuteTime": {
     "end_time": "2025-06-17T12:46:08.682194Z",
     "start_time": "2025-06-17T12:46:08.675453Z"
    }
   },
   "source": [
    "inputs, outputs = data.iloc[:, 0:2], data.iloc[:, 2]\n",
    "inputs = inputs.fillna(inputs.mean())\n",
    "print(inputs)"
   ],
   "outputs": [
    {
     "name": "stdout",
     "output_type": "stream",
     "text": [
      "   NumRooms Alley\n",
      "0       3.0  Pave\n",
      "1       2.0   NaN\n",
      "2       4.0   NaN\n",
      "3       3.0   NaN\n"
     ]
    }
   ],
   "execution_count": 20
  },
  {
   "cell_type": "markdown",
   "id": "eb24fa3d",
   "metadata": {
    "origin_pos": 6
   },
   "source": [
    "[**对于`inputs`中的类别值或离散值，我们将“NaN”视为一个类别。**]\n",
    "由于“巷子类型”（“Alley”）列只接受两种类型的类别值“Pave”和“NaN”，\n",
    "`pandas`可以自动将此列转换为两列“Alley_Pave”和“Alley_nan”。\n",
    "巷子类型为“Pave”的行会将“Alley_Pave”的值设置为1，“Alley_nan”的值设置为0。\n",
    "缺少巷子类型的行会将“Alley_Pave”和“Alley_nan”分别设置为0和1。\n"
   ]
  },
  {
   "cell_type": "code",
   "id": "14ee7d74",
   "metadata": {
    "execution": {
     "iopub.execute_input": "2022-12-07T16:43:12.412538Z",
     "iopub.status.busy": "2022-12-07T16:43:12.412100Z",
     "iopub.status.idle": "2022-12-07T16:43:12.423073Z",
     "shell.execute_reply": "2022-12-07T16:43:12.422231Z"
    },
    "origin_pos": 7,
    "tab": [
     "pytorch"
    ],
    "ExecuteTime": {
     "end_time": "2025-06-17T12:46:08.689393Z",
     "start_time": "2025-06-17T12:46:08.683087Z"
    }
   },
   "source": [
    "inputs = pd.get_dummies(inputs, dummy_na=True)\n",
    "print(inputs)"
   ],
   "outputs": [
    {
     "name": "stdout",
     "output_type": "stream",
     "text": [
      "   NumRooms  Alley_Pave  Alley_nan\n",
      "0       3.0           1          0\n",
      "1       2.0           0          1\n",
      "2       4.0           0          1\n",
      "3       3.0           0          1\n"
     ]
    }
   ],
   "execution_count": 21
  },
  {
   "cell_type": "markdown",
   "id": "a3831f7f",
   "metadata": {
    "origin_pos": 8
   },
   "source": [
    "## 转换为张量格式\n",
    "\n",
    "[**现在`inputs`和`outputs`中的所有条目都是数值类型，它们可以转换为张量格式。**]\n",
    "当数据采用张量格式后，可以通过在 :numref:`sec_ndarray`中引入的那些张量函数来进一步操作。\n"
   ]
  },
  {
   "cell_type": "code",
   "id": "6a2688a8",
   "metadata": {
    "execution": {
     "iopub.execute_input": "2022-12-07T16:43:12.426430Z",
     "iopub.status.busy": "2022-12-07T16:43:12.425899Z",
     "iopub.status.idle": "2022-12-07T16:43:13.670511Z",
     "shell.execute_reply": "2022-12-07T16:43:13.669732Z"
    },
    "origin_pos": 10,
    "tab": [
     "pytorch"
    ],
    "ExecuteTime": {
     "end_time": "2025-06-17T12:46:08.695477Z",
     "start_time": "2025-06-17T12:46:08.690014Z"
    }
   },
   "source": [
    "import torch\n",
    "\n",
    "X, y = torch.tensor(inputs.values), torch.tensor(outputs.values)\n",
    "X, y"
   ],
   "outputs": [
    {
     "data": {
      "text/plain": [
       "(tensor([[3., 1., 0.],\n",
       "         [2., 0., 1.],\n",
       "         [4., 0., 1.],\n",
       "         [3., 0., 1.]], dtype=torch.float64),\n",
       " tensor([127500, 106000, 178100, 140000]))"
      ]
     },
     "execution_count": 22,
     "metadata": {},
     "output_type": "execute_result"
    }
   ],
   "execution_count": 22
  },
  {
   "cell_type": "markdown",
   "id": "9f39c12c",
   "metadata": {
    "origin_pos": 13
   },
   "source": [
    "## 小结\n",
    "\n",
    "* `pandas`软件包是Python中常用的数据分析工具中，`pandas`可以与张量兼容。\n",
    "* 用`pandas`处理缺失的数据时，我们可根据情况选择用插值法和删除法。\n",
    "\n",
    "## 练习\n",
    "\n",
    "创建包含更多行和列的原始数据集。\n",
    "\n",
    "1. 删除缺失值最多的列。\n",
    "2. 将预处理后的数据集转换为张量格式。\n"
   ]
  },
  {
   "metadata": {
    "ExecuteTime": {
     "end_time": "2025-06-17T12:49:33.703043Z",
     "start_time": "2025-06-17T12:49:33.682798Z"
    }
   },
   "cell_type": "code",
   "source": [
    "# 练习0:\n",
    "import os\n",
    "\n",
    "os.makedirs(os.path.join('..', 'data'), exist_ok=True)\n",
    "data_file = os.path.join('..', 'data', 'house_normal.csv')\n",
    "with open(data_file, 'w') as f:\n",
    "    f.write('NumRooms,Alley,Price,Name\\n')  # 列名\n",
    "    f.write('NA,Pave,127500,Jack\\n')  # 每行表示一个数据样本\n",
    "    f.write('2,NA,106000,John\\n')\n",
    "    f.write('4,NA,178100,Tom\\n')\n",
    "    f.write('NA,NA,140000,Rose\\n')\n",
    "    f.write('NA,NA,130000,Tim\\n')\n",
    "    f.write('2,NA,100000,Jim\\n')\n",
    "\n",
    "# 如果没有安装pandas，只需取消对以下行的注释来安装pandas\n",
    "# !pip install pandas\n",
    "import pandas as pd\n",
    "\n",
    "data = pd.read_csv(data_file)\n",
    "print(data)"
   ],
   "id": "7e571bf2fc72cc03",
   "outputs": [
    {
     "name": "stdout",
     "output_type": "stream",
     "text": [
      "   NumRooms Alley   Price  Name\n",
      "0       NaN  Pave  127500  Jack\n",
      "1       2.0   NaN  106000  John\n",
      "2       4.0   NaN  178100   Tom\n",
      "3       NaN   NaN  140000  Rose\n",
      "4       NaN   NaN  130000   Tim\n",
      "5       2.0   NaN  100000   Jim\n"
     ]
    }
   ],
   "execution_count": 35
  },
  {
   "metadata": {
    "ExecuteTime": {
     "end_time": "2025-06-17T12:49:35.450844Z",
     "start_time": "2025-06-17T12:49:35.444480Z"
    }
   },
   "cell_type": "code",
   "source": [
    "# 练习1：\n",
    "\n",
    "# 计算每列的缺失值数量\n",
    "missing_counts = data.isna().sum()\n",
    "\n",
    "# 找出缺失值最多的列\n",
    "max_missing_column = missing_counts.idxmax()\n",
    "\n",
    "# 删除缺失值最多的列\n",
    "data = data.drop(columns=[max_missing_column])\n",
    "\n",
    "print(\"删除缺失值最多的列后的数据：\")\n",
    "print(data)"
   ],
   "id": "b70e68fa7fddb957",
   "outputs": [
    {
     "name": "stdout",
     "output_type": "stream",
     "text": [
      "删除缺失值最多的列后的数据：\n",
      "   NumRooms   Price  Name\n",
      "0       NaN  127500  Jack\n",
      "1       2.0  106000  John\n",
      "2       4.0  178100   Tom\n",
      "3       NaN  140000  Rose\n",
      "4       NaN  130000   Tim\n",
      "5       2.0  100000   Jim\n"
     ]
    }
   ],
   "execution_count": 36
  },
  {
   "metadata": {
    "ExecuteTime": {
     "end_time": "2025-06-17T12:50:21.686108Z",
     "start_time": "2025-06-17T12:50:21.677425Z"
    }
   },
   "cell_type": "code",
   "source": [
    "# 练习2:\n",
    "\n",
    "inputs, outputs = data.iloc[:, 0:2], data.iloc[:, 1:2]\n",
    "inputs = inputs.fillna(inputs.mean())\n",
    "inputs = pd.get_dummies(inputs, dummy_na=True)\n",
    "print(inputs)\n",
    "print(outputs)\n",
    "\n",
    "X, y = torch.tensor(inputs.values), torch.tensor(outputs.values)\n",
    "X, y"
   ],
   "id": "4f712aa8bae1659c",
   "outputs": [
    {
     "name": "stdout",
     "output_type": "stream",
     "text": [
      "   NumRooms   Price\n",
      "0  2.666667  127500\n",
      "1  2.000000  106000\n",
      "2  4.000000  178100\n",
      "3  2.666667  140000\n",
      "4  2.666667  130000\n",
      "5  2.000000  100000\n",
      "    Price\n",
      "0  127500\n",
      "1  106000\n",
      "2  178100\n",
      "3  140000\n",
      "4  130000\n",
      "5  100000\n"
     ]
    },
    {
     "data": {
      "text/plain": [
       "(tensor([[2.6667e+00, 1.2750e+05],\n",
       "         [2.0000e+00, 1.0600e+05],\n",
       "         [4.0000e+00, 1.7810e+05],\n",
       "         [2.6667e+00, 1.4000e+05],\n",
       "         [2.6667e+00, 1.3000e+05],\n",
       "         [2.0000e+00, 1.0000e+05]], dtype=torch.float64),\n",
       " tensor([[127500],\n",
       "         [106000],\n",
       "         [178100],\n",
       "         [140000],\n",
       "         [130000],\n",
       "         [100000]]))"
      ]
     },
     "execution_count": 41,
     "metadata": {},
     "output_type": "execute_result"
    }
   ],
   "execution_count": 41
  },
  {
   "metadata": {
    "origin_pos": 15,
    "tab": [
     "pytorch"
    ]
   },
   "cell_type": "markdown",
   "source": "[Discussions](https://discuss.d2l.ai/t/1750)\n",
   "id": "ae0b8cb2bd73ab51"
  }
 ],
 "metadata": {
  "language_info": {
   "name": "python"
  },
  "kernelspec": {
   "name": "python3",
   "language": "python",
   "display_name": "Python 3 (ipykernel)"
  }
 },
 "nbformat": 4,
 "nbformat_minor": 5
}
